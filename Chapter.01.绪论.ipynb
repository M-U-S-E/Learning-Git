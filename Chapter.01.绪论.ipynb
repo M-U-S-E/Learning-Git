{
 "cells": [
  {
   "cell_type": "markdown",
   "id": "cd6cd73c-e77e-4beb-a4c4-f2a98f5a9e9c",
   "metadata": {
    "tags": []
   },
   "source": [
    "<div style=\"display: flex; align-items: flex-start;\">\n",
    "    <div style=\"width: 70px; height: auto; background-color: #FF6600; display: flex; flex-direction: column; justify-content: flex-end; position: relative;\">\n",
    "        <div></div>\n",
    "        <div style=\"font-size: 45px; text-align: right; position: absolute; bottom: 0; right: 8px; color: white;\">1</div>\n",
    "    </div>\n",
    "    <div>\n",
    "        <p style=\"margin-left: 10px; margin-top: 30px;\"></p>\n",
    "        <p style=\"margin-left: 10px; font-size: 120%; line-height: 1.1; color: #FF6600;\">Introduction</p>\n",
    "        <p style=\"margin-left: 10px; margin-top: 21px; font-size: 170%; line-height: 0; color: #006fc0; font-weight:bold;\">Git 绪论</p>\n",
    "        <p style=\"margin-left: 10px; font-size: 120%; line-height: 1.1; margin-bottom: 3px;\">开发初衷 核心功能 历代系统</p>\n",
    "    </div>\n",
    "</div>"
   ]
  },
  {
   "cell_type": "markdown",
   "id": "294f2937-1302-47b4-8c33-55e7efae9958",
   "metadata": {},
   "source": [
    "<div>\n",
    "  <span style=\"font-size:28px; color:#FF6600; vertical-align:baseline;\">1.1</span>\n",
    "  <span style=\"margin-left:8px; font-size:16px; color:#006fc0; position:relative; top:-1px; font-weight:bold;\">开发初衷</span>\n",
    "</div>\n",
    "<div style=\"height:1px; background: linear-gradient(to right, #006fc0, transparent);\"></div>\n",
    "</br>\n",
    "\n",
    "在项目开发、文案撰写、多媒体剪辑等各类工作中，<span style=\"color: #006fc0;\">版本的迭代</span>是必然的。</br>\n",
    "然而复杂的工作不可能是线性的，为了达成目标，我们需要适时回顾修改历史、调用不同版本、监控项目进度等，因此，版本控制至关重要。</br>\n",
    "也因此，Git应运而生。\n",
    "\n",
    ">版本控制（Revision control）的概念：</br>\n",
    ">- 版本控制是一种管理和跟踪软件开发过程中代码和文件变化的系统，<span style=\"color: #006fc0;\">凡有更改，必留痕迹。</span></br>"
   ]
  },
  {
   "cell_type": "markdown",
   "id": "c76ea648-051d-4b22-bb8a-fe96242bee52",
   "metadata": {
    "tags": []
   },
   "source": [
    "<div>\n",
    "  <span style=\"font-size:28px; color:#FF6600; vertical-align:baseline;\">1.2</span>\n",
    "  <span style=\"margin-left:8px; font-size:16px; color:#006fc0; position:relative; top:-1px; font-weight:bold;\">核心功能</span>\n",
    "</div>\n",
    "<div style=\"height:1px; background: linear-gradient(to right, #006fc0, transparent);\"></div>\n",
    "</br>\n",
    "\n",
    "Linux之父林纳斯·本纳第克特·托瓦兹（Linus Benedict Torvalds）最初运用BitKeeper对Linux进行版本管理，后基于此开发了Git。</br>\n",
    "Git擅长管理多人协同开发的复杂项目，但对于个人开发者和小型项目而言也是极有价值的。\n",
    "\n",
    ">Git的核心功能包括：</br>\n",
    ">- 版本记录：记录每次修改的详细信息，包括时间、作者和具体内容</br>\n",
    ">- 版本恢复：提高容错，回滚到之前的版本或恢复被删除的文件</br>\n",
    ">- 分支管理：创建分支以便并行开发和特性隔离</br>\n",
    ">- 解决冲突：合并分支并处理可能的冲突</br>\n",
    ">- 协作共享：在中央仓库或分布式环境下共享代码</br>\n",
    ">- 标签和里程碑：标记重要版本，监控项目进度</br>\n",
    ">- 统计工作量：统计代码提交的时间和数量</br>"
   ]
  },
  {
   "cell_type": "markdown",
   "id": "0cda7802-13a3-4270-b60e-bfdb61763cb3",
   "metadata": {},
   "source": [
    "<div>\n",
    "  <span style=\"font-size:28px; color:#FF6600; vertical-align:baseline;\">1.3</span>\n",
    "  <span style=\"margin-left:8px; font-size:16px; color:#006fc0; position:relative; top:-1px; font-weight:bold;\">历代系统</span>\n",
    "</div>\n",
    "<div style=\"height:1px; background: linear-gradient(to right, #006fc0, transparent);\"></div>\n",
    "</br>\n",
    "\n",
    "不同的开发需求和场景需要不同的功能和特性，版本控制系统也因此不断革新。</br>\n",
    "就广义而言，版本控制系统历经三代变迁。\n",
    "\n",
    ">第一代：本地版本控制</br>\n",
    ">- 特点</br>\n",
    ">文件级版本控制系统，用于跟踪和管理单个文件的变化，适用于个人开发者或小型项目。</br>\n",
    ">在本地计算机上进行操作，不需要连接到网络或与其他人共享文件。</br>\n",
    "</br>\n",
    ">- 比拟</br>\n",
    ">悔棋</br>\n",
    ">时光回溯\n",
    "\n",
    ">第二代：集中版本控制</br>\n",
    ">- 特点</br>\n",
    ">基于中央仓库的版本控制系统，所有代码都保存在中央服务器上，有损坏风险。</br>\n",
    "团队成员通过与中央服务器进行交互来提交、更新和获取代码，须网络支持。</br>\n",
    ">允许多名开发者同时工作，项目进度一目了然，但可能出现代码冲突。</br>\n",
    "</br>\n",
    ">- 比拟</br>\n",
    ">有且只有一座图书馆，所有书籍皆储存于此，读者可以借阅书籍，并做出修改、标记、备注。</br>\n",
    ">所有读者的操作都会被记录在案，以便他人查阅。</br>\n",
    "\n",
    ">第三代：分布式版本控制</br>\n",
    ">- 特点</br>\n",
    ">基于每个本地副本的版本控制系统，每个开发者都具有完整的代码仓库副本，安全无虞。</br>\n",
    ">每个开发者都可以独立地进行版本控制和代码提交，也可以随时交互。</br>\n",
    ">由项目管理员筛选、核查各个分支，确保合并后代码的完整性、一致性和稳定性。</br>\n",
    "</br>\n",
    ">- 比拟</br>\n",
    ">当多名编剧共同改编同一部小说时，每一位编剧都会获得完整的小说副本，并在各自的副本上做出修改。</br>\n",
    ">各个编剧可以分别负责不同章节的修改，也可以对同一章节做出多种不同修改。</br>\n",
    ">最终，由总编剧汇总各个副本，做出最终决策。"
   ]
  }
 ],
 "metadata": {
  "@deathbeds/ipydrawio": {
   "xml": "<mxfile host=\"localhost\" modified=\"2023-09-21T14:45:18.979Z\" agent=\"Mozilla/5.0 (Windows NT 10.0; Win64; x64; rv:109.0) Gecko/20100101 Firefox/117.0\" etag=\"O-1Wjx7PSDK9ZrMw-QZV\" version=\"21.1.6\" type=\"embed\">\n  <diagram id=\"AJOwKhGr5ZY5X9Da2EuE\" name=\"Page-1\">\n    <mxGraphModel dx=\"1492\" dy=\"791\" grid=\"1\" gridSize=\"10\" guides=\"1\" tooltips=\"1\" connect=\"1\" arrows=\"1\" fold=\"1\" page=\"1\" pageScale=\"1\" pageWidth=\"827\" pageHeight=\"1169\" math=\"0\" shadow=\"0\">\n      <root>\n        <mxCell id=\"0\" />\n        <mxCell id=\"1\" parent=\"0\" />\n        <mxCell id=\"2\" value=\"\" style=\"verticalLabelPosition=bottom;verticalAlign=top;strokeWidth=1;align=center;outlineConnect=0;dashed=0;outlineConnect=0;shape=mxgraph.aws3d.ami;aspect=fixed;fillColor=#E8CA45;strokeColor=#FFF215;\" vertex=\"1\" parent=\"1\">\n          <mxGeometry x=\"370\" y=\"380\" width=\"92\" height=\"60\" as=\"geometry\" />\n        </mxCell>\n        <mxCell id=\"3\" value=\"\" style=\"verticalLabelPosition=bottom;verticalAlign=top;strokeWidth=1;align=center;outlineConnect=0;dashed=0;outlineConnect=0;shape=mxgraph.aws3d.ami2;aspect=fixed;fillColor=#FF9900;strokeColor=#ffffff;\" vertex=\"1\" parent=\"1\">\n          <mxGeometry x=\"420\" y=\"500\" width=\"74\" height=\"50\" as=\"geometry\" />\n        </mxCell>\n        <mxCell id=\"4\" value=\"\" style=\"verticalLabelPosition=bottom;verticalAlign=top;strokeWidth=1;align=center;outlineConnect=0;dashed=0;outlineConnect=0;shape=mxgraph.aws3d.application;fillColor=#4286c5;strokeColor=#57A2D8;aspect=fixed;\" vertex=\"1\" parent=\"1\">\n          <mxGeometry x=\"250\" y=\"440\" width=\"62\" height=\"68.8\" as=\"geometry\" />\n        </mxCell>\n      </root>\n    </mxGraphModel>\n  </diagram>\n</mxfile>\n"
  },
  "kernelspec": {
   "display_name": "Python 3 (ipykernel)",
   "language": "python",
   "name": "python3"
  },
  "language_info": {
   "codemirror_mode": {
    "name": "ipython",
    "version": 3
   },
   "file_extension": ".py",
   "mimetype": "text/x-python",
   "name": "python",
   "nbconvert_exporter": "python",
   "pygments_lexer": "ipython3",
   "version": "3.11.4"
  },
  "toc-autonumbering": true,
  "toc-showmarkdowntxt": false
 },
 "nbformat": 4,
 "nbformat_minor": 5
}
